{
 "cells": [
  {
   "cell_type": "code",
   "execution_count": 65,
   "id": "dca13906",
   "metadata": {},
   "outputs": [],
   "source": [
    "from sklearn.ensemble import RandomForestClassifier\n",
    "import numpy as np\n",
    "import pandas as pd\n",
    "from sklearn import metrics"
   ]
  },
  {
   "cell_type": "markdown",
   "id": "5b286c50",
   "metadata": {},
   "source": [
    "### 데이터 읽어온 후 RandomForest로 반응자 예측하기\n",
    "- 예측한 반응자는 response_people에 저장"
   ]
  },
  {
   "cell_type": "code",
   "execution_count": 46,
   "id": "f86455c3",
   "metadata": {},
   "outputs": [],
   "source": [
    "train_x = pd.read_csv('../trnx.csv', header=None)\n",
    "train_y = pd.read_csv('../trny.csv', header=None)\n",
    "train_dol = pd.read_csv('../trndol.csv', header=None)\n",
    "test_x = pd.read_csv('../tstx.csv', header=None)"
   ]
  },
  {
   "cell_type": "code",
   "execution_count": 47,
   "id": "96fa4309",
   "metadata": {},
   "outputs": [
    {
     "data": {
      "text/html": [
       "<div>\n",
       "<style scoped>\n",
       "    .dataframe tbody tr th:only-of-type {\n",
       "        vertical-align: middle;\n",
       "    }\n",
       "\n",
       "    .dataframe tbody tr th {\n",
       "        vertical-align: top;\n",
       "    }\n",
       "\n",
       "    .dataframe thead th {\n",
       "        text-align: right;\n",
       "    }\n",
       "</style>\n",
       "<table border=\"1\" class=\"dataframe\">\n",
       "  <thead>\n",
       "    <tr style=\"text-align: right;\">\n",
       "      <th></th>\n",
       "      <th>0</th>\n",
       "      <th>1</th>\n",
       "      <th>2</th>\n",
       "      <th>3</th>\n",
       "      <th>4</th>\n",
       "      <th>5</th>\n",
       "      <th>6</th>\n",
       "      <th>7</th>\n",
       "      <th>8</th>\n",
       "      <th>9</th>\n",
       "      <th>10</th>\n",
       "      <th>11</th>\n",
       "      <th>12</th>\n",
       "      <th>13</th>\n",
       "      <th>14</th>\n",
       "    </tr>\n",
       "  </thead>\n",
       "  <tbody>\n",
       "    <tr>\n",
       "      <th>0</th>\n",
       "      <td>-0.92575</td>\n",
       "      <td>-0.34309</td>\n",
       "      <td>1</td>\n",
       "      <td>-1</td>\n",
       "      <td>-1</td>\n",
       "      <td>0.0</td>\n",
       "      <td>-0.77778</td>\n",
       "      <td>-0.333330</td>\n",
       "      <td>0.189970</td>\n",
       "      <td>-0.50</td>\n",
       "      <td>0.66667</td>\n",
       "      <td>-0.76822</td>\n",
       "      <td>-0.90476</td>\n",
       "      <td>-0.001805</td>\n",
       "      <td>-0.83019</td>\n",
       "    </tr>\n",
       "    <tr>\n",
       "      <th>1</th>\n",
       "      <td>-0.92575</td>\n",
       "      <td>-0.34309</td>\n",
       "      <td>1</td>\n",
       "      <td>-1</td>\n",
       "      <td>-1</td>\n",
       "      <td>-0.8</td>\n",
       "      <td>-0.77778</td>\n",
       "      <td>-0.333330</td>\n",
       "      <td>-1.000000</td>\n",
       "      <td>-0.75</td>\n",
       "      <td>-0.66667</td>\n",
       "      <td>-0.86023</td>\n",
       "      <td>-0.80952</td>\n",
       "      <td>-0.001805</td>\n",
       "      <td>-1.00000</td>\n",
       "    </tr>\n",
       "    <tr>\n",
       "      <th>2</th>\n",
       "      <td>-0.90100</td>\n",
       "      <td>-0.46830</td>\n",
       "      <td>1</td>\n",
       "      <td>-1</td>\n",
       "      <td>-1</td>\n",
       "      <td>-0.7</td>\n",
       "      <td>-0.55556</td>\n",
       "      <td>-0.057191</td>\n",
       "      <td>-0.349560</td>\n",
       "      <td>-0.50</td>\n",
       "      <td>-0.66667</td>\n",
       "      <td>-0.90117</td>\n",
       "      <td>-0.90476</td>\n",
       "      <td>-0.001805</td>\n",
       "      <td>-0.96226</td>\n",
       "    </tr>\n",
       "    <tr>\n",
       "      <th>3</th>\n",
       "      <td>-0.86940</td>\n",
       "      <td>-0.57487</td>\n",
       "      <td>-1</td>\n",
       "      <td>1</td>\n",
       "      <td>-1</td>\n",
       "      <td>-0.9</td>\n",
       "      <td>-0.77778</td>\n",
       "      <td>-0.333330</td>\n",
       "      <td>-0.719870</td>\n",
       "      <td>-0.75</td>\n",
       "      <td>-0.83333</td>\n",
       "      <td>-1.00000</td>\n",
       "      <td>-1.00000</td>\n",
       "      <td>-0.001805</td>\n",
       "      <td>-0.98113</td>\n",
       "    </tr>\n",
       "    <tr>\n",
       "      <th>4</th>\n",
       "      <td>-0.93839</td>\n",
       "      <td>-0.25525</td>\n",
       "      <td>1</td>\n",
       "      <td>-1</td>\n",
       "      <td>-1</td>\n",
       "      <td>-0.4</td>\n",
       "      <td>-0.55556</td>\n",
       "      <td>-0.057191</td>\n",
       "      <td>-0.030911</td>\n",
       "      <td>-0.50</td>\n",
       "      <td>-0.33333</td>\n",
       "      <td>-0.77900</td>\n",
       "      <td>-0.80952</td>\n",
       "      <td>-0.001805</td>\n",
       "      <td>-0.90566</td>\n",
       "    </tr>\n",
       "    <tr>\n",
       "      <th>...</th>\n",
       "      <td>...</td>\n",
       "      <td>...</td>\n",
       "      <td>...</td>\n",
       "      <td>...</td>\n",
       "      <td>...</td>\n",
       "      <td>...</td>\n",
       "      <td>...</td>\n",
       "      <td>...</td>\n",
       "      <td>...</td>\n",
       "      <td>...</td>\n",
       "      <td>...</td>\n",
       "      <td>...</td>\n",
       "      <td>...</td>\n",
       "      <td>...</td>\n",
       "      <td>...</td>\n",
       "    </tr>\n",
       "    <tr>\n",
       "      <th>50761</th>\n",
       "      <td>-0.15587</td>\n",
       "      <td>-0.94965</td>\n",
       "      <td>-1</td>\n",
       "      <td>-1</td>\n",
       "      <td>-1</td>\n",
       "      <td>-0.9</td>\n",
       "      <td>-1.00000</td>\n",
       "      <td>-1.000000</td>\n",
       "      <td>-1.000000</td>\n",
       "      <td>-1.00</td>\n",
       "      <td>-0.83333</td>\n",
       "      <td>-0.93011</td>\n",
       "      <td>-0.90476</td>\n",
       "      <td>-0.335740</td>\n",
       "      <td>-1.00000</td>\n",
       "    </tr>\n",
       "    <tr>\n",
       "      <th>50762</th>\n",
       "      <td>-0.51448</td>\n",
       "      <td>-0.88889</td>\n",
       "      <td>-1</td>\n",
       "      <td>-1</td>\n",
       "      <td>-1</td>\n",
       "      <td>-0.9</td>\n",
       "      <td>-1.00000</td>\n",
       "      <td>-1.000000</td>\n",
       "      <td>-1.000000</td>\n",
       "      <td>-1.00</td>\n",
       "      <td>-0.83333</td>\n",
       "      <td>-0.93011</td>\n",
       "      <td>-0.90476</td>\n",
       "      <td>-0.001805</td>\n",
       "      <td>-1.00000</td>\n",
       "    </tr>\n",
       "    <tr>\n",
       "      <th>50763</th>\n",
       "      <td>-0.34597</td>\n",
       "      <td>-0.92528</td>\n",
       "      <td>-1</td>\n",
       "      <td>-1</td>\n",
       "      <td>-1</td>\n",
       "      <td>-0.6</td>\n",
       "      <td>-1.00000</td>\n",
       "      <td>-1.000000</td>\n",
       "      <td>-1.000000</td>\n",
       "      <td>-1.00</td>\n",
       "      <td>-0.50000</td>\n",
       "      <td>-0.75791</td>\n",
       "      <td>-0.71429</td>\n",
       "      <td>-0.335740</td>\n",
       "      <td>-0.98113</td>\n",
       "    </tr>\n",
       "    <tr>\n",
       "      <th>50764</th>\n",
       "      <td>-0.56187</td>\n",
       "      <td>-0.87401</td>\n",
       "      <td>-1</td>\n",
       "      <td>-1</td>\n",
       "      <td>-1</td>\n",
       "      <td>-0.9</td>\n",
       "      <td>-1.00000</td>\n",
       "      <td>-1.000000</td>\n",
       "      <td>-1.000000</td>\n",
       "      <td>-1.00</td>\n",
       "      <td>-0.83333</td>\n",
       "      <td>-0.93011</td>\n",
       "      <td>-0.90476</td>\n",
       "      <td>-0.335740</td>\n",
       "      <td>-1.00000</td>\n",
       "    </tr>\n",
       "    <tr>\n",
       "      <th>50765</th>\n",
       "      <td>-0.56293</td>\n",
       "      <td>-0.87365</td>\n",
       "      <td>-1</td>\n",
       "      <td>-1</td>\n",
       "      <td>-1</td>\n",
       "      <td>-0.8</td>\n",
       "      <td>-1.00000</td>\n",
       "      <td>-1.000000</td>\n",
       "      <td>-1.000000</td>\n",
       "      <td>-1.00</td>\n",
       "      <td>-0.66667</td>\n",
       "      <td>-0.90117</td>\n",
       "      <td>-0.90476</td>\n",
       "      <td>-0.001805</td>\n",
       "      <td>-0.98113</td>\n",
       "    </tr>\n",
       "  </tbody>\n",
       "</table>\n",
       "<p>50766 rows × 15 columns</p>\n",
       "</div>"
      ],
      "text/plain": [
       "            0        1   2   3   4    5        6         7         8     9   \\\n",
       "0     -0.92575 -0.34309   1  -1  -1  0.0 -0.77778 -0.333330  0.189970 -0.50   \n",
       "1     -0.92575 -0.34309   1  -1  -1 -0.8 -0.77778 -0.333330 -1.000000 -0.75   \n",
       "2     -0.90100 -0.46830   1  -1  -1 -0.7 -0.55556 -0.057191 -0.349560 -0.50   \n",
       "3     -0.86940 -0.57487  -1   1  -1 -0.9 -0.77778 -0.333330 -0.719870 -0.75   \n",
       "4     -0.93839 -0.25525   1  -1  -1 -0.4 -0.55556 -0.057191 -0.030911 -0.50   \n",
       "...        ...      ...  ..  ..  ..  ...      ...       ...       ...   ...   \n",
       "50761 -0.15587 -0.94965  -1  -1  -1 -0.9 -1.00000 -1.000000 -1.000000 -1.00   \n",
       "50762 -0.51448 -0.88889  -1  -1  -1 -0.9 -1.00000 -1.000000 -1.000000 -1.00   \n",
       "50763 -0.34597 -0.92528  -1  -1  -1 -0.6 -1.00000 -1.000000 -1.000000 -1.00   \n",
       "50764 -0.56187 -0.87401  -1  -1  -1 -0.9 -1.00000 -1.000000 -1.000000 -1.00   \n",
       "50765 -0.56293 -0.87365  -1  -1  -1 -0.8 -1.00000 -1.000000 -1.000000 -1.00   \n",
       "\n",
       "            10       11       12        13       14  \n",
       "0      0.66667 -0.76822 -0.90476 -0.001805 -0.83019  \n",
       "1     -0.66667 -0.86023 -0.80952 -0.001805 -1.00000  \n",
       "2     -0.66667 -0.90117 -0.90476 -0.001805 -0.96226  \n",
       "3     -0.83333 -1.00000 -1.00000 -0.001805 -0.98113  \n",
       "4     -0.33333 -0.77900 -0.80952 -0.001805 -0.90566  \n",
       "...        ...      ...      ...       ...      ...  \n",
       "50761 -0.83333 -0.93011 -0.90476 -0.335740 -1.00000  \n",
       "50762 -0.83333 -0.93011 -0.90476 -0.001805 -1.00000  \n",
       "50763 -0.50000 -0.75791 -0.71429 -0.335740 -0.98113  \n",
       "50764 -0.83333 -0.93011 -0.90476 -0.335740 -1.00000  \n",
       "50765 -0.66667 -0.90117 -0.90476 -0.001805 -0.98113  \n",
       "\n",
       "[50766 rows x 15 columns]"
      ]
     },
     "execution_count": 47,
     "metadata": {},
     "output_type": "execute_result"
    }
   ],
   "source": [
    "train_x"
   ]
  },
  {
   "cell_type": "code",
   "execution_count": 48,
   "id": "004f6d35",
   "metadata": {},
   "outputs": [
    {
     "data": {
      "text/html": [
       "<div>\n",
       "<style scoped>\n",
       "    .dataframe tbody tr th:only-of-type {\n",
       "        vertical-align: middle;\n",
       "    }\n",
       "\n",
       "    .dataframe tbody tr th {\n",
       "        vertical-align: top;\n",
       "    }\n",
       "\n",
       "    .dataframe thead th {\n",
       "        text-align: right;\n",
       "    }\n",
       "</style>\n",
       "<table border=\"1\" class=\"dataframe\">\n",
       "  <thead>\n",
       "    <tr style=\"text-align: right;\">\n",
       "      <th></th>\n",
       "      <th>0</th>\n",
       "    </tr>\n",
       "  </thead>\n",
       "  <tbody>\n",
       "    <tr>\n",
       "      <th>0</th>\n",
       "      <td>1</td>\n",
       "    </tr>\n",
       "    <tr>\n",
       "      <th>1</th>\n",
       "      <td>1</td>\n",
       "    </tr>\n",
       "    <tr>\n",
       "      <th>2</th>\n",
       "      <td>1</td>\n",
       "    </tr>\n",
       "    <tr>\n",
       "      <th>3</th>\n",
       "      <td>1</td>\n",
       "    </tr>\n",
       "    <tr>\n",
       "      <th>4</th>\n",
       "      <td>1</td>\n",
       "    </tr>\n",
       "    <tr>\n",
       "      <th>...</th>\n",
       "      <td>...</td>\n",
       "    </tr>\n",
       "    <tr>\n",
       "      <th>50761</th>\n",
       "      <td>-1</td>\n",
       "    </tr>\n",
       "    <tr>\n",
       "      <th>50762</th>\n",
       "      <td>-1</td>\n",
       "    </tr>\n",
       "    <tr>\n",
       "      <th>50763</th>\n",
       "      <td>-1</td>\n",
       "    </tr>\n",
       "    <tr>\n",
       "      <th>50764</th>\n",
       "      <td>-1</td>\n",
       "    </tr>\n",
       "    <tr>\n",
       "      <th>50765</th>\n",
       "      <td>-1</td>\n",
       "    </tr>\n",
       "  </tbody>\n",
       "</table>\n",
       "<p>50766 rows × 1 columns</p>\n",
       "</div>"
      ],
      "text/plain": [
       "       0\n",
       "0      1\n",
       "1      1\n",
       "2      1\n",
       "3      1\n",
       "4      1\n",
       "...   ..\n",
       "50761 -1\n",
       "50762 -1\n",
       "50763 -1\n",
       "50764 -1\n",
       "50765 -1\n",
       "\n",
       "[50766 rows x 1 columns]"
      ]
     },
     "execution_count": 48,
     "metadata": {},
     "output_type": "execute_result"
    }
   ],
   "source": [
    "train_y"
   ]
  },
  {
   "cell_type": "code",
   "execution_count": 49,
   "id": "5fdbe00b",
   "metadata": {},
   "outputs": [
    {
     "data": {
      "text/html": [
       "<div>\n",
       "<style scoped>\n",
       "    .dataframe tbody tr th:only-of-type {\n",
       "        vertical-align: middle;\n",
       "    }\n",
       "\n",
       "    .dataframe tbody tr th {\n",
       "        vertical-align: top;\n",
       "    }\n",
       "\n",
       "    .dataframe thead th {\n",
       "        text-align: right;\n",
       "    }\n",
       "</style>\n",
       "<table border=\"1\" class=\"dataframe\">\n",
       "  <thead>\n",
       "    <tr style=\"text-align: right;\">\n",
       "      <th></th>\n",
       "      <th>0</th>\n",
       "    </tr>\n",
       "  </thead>\n",
       "  <tbody>\n",
       "    <tr>\n",
       "      <th>0</th>\n",
       "      <td>9</td>\n",
       "    </tr>\n",
       "    <tr>\n",
       "      <th>1</th>\n",
       "      <td>67</td>\n",
       "    </tr>\n",
       "    <tr>\n",
       "      <th>2</th>\n",
       "      <td>10</td>\n",
       "    </tr>\n",
       "    <tr>\n",
       "      <th>3</th>\n",
       "      <td>36</td>\n",
       "    </tr>\n",
       "    <tr>\n",
       "      <th>4</th>\n",
       "      <td>35</td>\n",
       "    </tr>\n",
       "    <tr>\n",
       "      <th>...</th>\n",
       "      <td>...</td>\n",
       "    </tr>\n",
       "    <tr>\n",
       "      <th>50761</th>\n",
       "      <td>0</td>\n",
       "    </tr>\n",
       "    <tr>\n",
       "      <th>50762</th>\n",
       "      <td>0</td>\n",
       "    </tr>\n",
       "    <tr>\n",
       "      <th>50763</th>\n",
       "      <td>0</td>\n",
       "    </tr>\n",
       "    <tr>\n",
       "      <th>50764</th>\n",
       "      <td>0</td>\n",
       "    </tr>\n",
       "    <tr>\n",
       "      <th>50765</th>\n",
       "      <td>0</td>\n",
       "    </tr>\n",
       "  </tbody>\n",
       "</table>\n",
       "<p>50766 rows × 1 columns</p>\n",
       "</div>"
      ],
      "text/plain": [
       "        0\n",
       "0       9\n",
       "1      67\n",
       "2      10\n",
       "3      36\n",
       "4      35\n",
       "...    ..\n",
       "50761   0\n",
       "50762   0\n",
       "50763   0\n",
       "50764   0\n",
       "50765   0\n",
       "\n",
       "[50766 rows x 1 columns]"
      ]
     },
     "execution_count": 49,
     "metadata": {},
     "output_type": "execute_result"
    }
   ],
   "source": [
    "train_dol"
   ]
  },
  {
   "cell_type": "code",
   "execution_count": 55,
   "id": "0236d1fe",
   "metadata": {},
   "outputs": [
    {
     "data": {
      "text/html": [
       "<div>\n",
       "<style scoped>\n",
       "    .dataframe tbody tr th:only-of-type {\n",
       "        vertical-align: middle;\n",
       "    }\n",
       "\n",
       "    .dataframe tbody tr th {\n",
       "        vertical-align: top;\n",
       "    }\n",
       "\n",
       "    .dataframe thead th {\n",
       "        text-align: right;\n",
       "    }\n",
       "</style>\n",
       "<table border=\"1\" class=\"dataframe\">\n",
       "  <thead>\n",
       "    <tr style=\"text-align: right;\">\n",
       "      <th></th>\n",
       "      <th>0</th>\n",
       "      <th>1</th>\n",
       "      <th>2</th>\n",
       "      <th>3</th>\n",
       "      <th>4</th>\n",
       "      <th>5</th>\n",
       "      <th>6</th>\n",
       "      <th>7</th>\n",
       "      <th>8</th>\n",
       "      <th>9</th>\n",
       "      <th>10</th>\n",
       "      <th>11</th>\n",
       "      <th>12</th>\n",
       "      <th>13</th>\n",
       "      <th>14</th>\n",
       "    </tr>\n",
       "  </thead>\n",
       "  <tbody>\n",
       "    <tr>\n",
       "      <th>0</th>\n",
       "      <td>-0.713010</td>\n",
       "      <td>-0.79765</td>\n",
       "      <td>-1</td>\n",
       "      <td>-1</td>\n",
       "      <td>1</td>\n",
       "      <td>-0.8</td>\n",
       "      <td>-1.00000</td>\n",
       "      <td>-1.000000</td>\n",
       "      <td>-1.00000</td>\n",
       "      <td>-1.00</td>\n",
       "      <td>-0.66667</td>\n",
       "      <td>-0.90117</td>\n",
       "      <td>-0.90476</td>\n",
       "      <td>-0.001805</td>\n",
       "      <td>-0.98113</td>\n",
       "    </tr>\n",
       "    <tr>\n",
       "      <th>1</th>\n",
       "      <td>-0.191150</td>\n",
       "      <td>-0.94596</td>\n",
       "      <td>-1</td>\n",
       "      <td>-1</td>\n",
       "      <td>-1</td>\n",
       "      <td>-0.7</td>\n",
       "      <td>-1.00000</td>\n",
       "      <td>-1.000000</td>\n",
       "      <td>-1.00000</td>\n",
       "      <td>-1.00</td>\n",
       "      <td>-0.66667</td>\n",
       "      <td>-0.82882</td>\n",
       "      <td>-0.80952</td>\n",
       "      <td>-0.669680</td>\n",
       "      <td>-0.98113</td>\n",
       "    </tr>\n",
       "    <tr>\n",
       "      <th>2</th>\n",
       "      <td>-0.653500</td>\n",
       "      <td>-0.83488</td>\n",
       "      <td>-1</td>\n",
       "      <td>-1</td>\n",
       "      <td>-1</td>\n",
       "      <td>-0.7</td>\n",
       "      <td>-1.00000</td>\n",
       "      <td>-1.000000</td>\n",
       "      <td>-1.00000</td>\n",
       "      <td>-1.00</td>\n",
       "      <td>-0.50000</td>\n",
       "      <td>-1.00000</td>\n",
       "      <td>-1.00000</td>\n",
       "      <td>-0.001805</td>\n",
       "      <td>-0.94340</td>\n",
       "    </tr>\n",
       "    <tr>\n",
       "      <th>3</th>\n",
       "      <td>-0.901000</td>\n",
       "      <td>-0.46830</td>\n",
       "      <td>1</td>\n",
       "      <td>-1</td>\n",
       "      <td>-1</td>\n",
       "      <td>-0.7</td>\n",
       "      <td>-0.55556</td>\n",
       "      <td>-0.057191</td>\n",
       "      <td>-0.71987</td>\n",
       "      <td>-0.75</td>\n",
       "      <td>-0.66667</td>\n",
       "      <td>-0.86023</td>\n",
       "      <td>-0.80952</td>\n",
       "      <td>-0.502710</td>\n",
       "      <td>-0.98113</td>\n",
       "    </tr>\n",
       "    <tr>\n",
       "      <th>4</th>\n",
       "      <td>-0.864140</td>\n",
       "      <td>-0.58888</td>\n",
       "      <td>-1</td>\n",
       "      <td>1</td>\n",
       "      <td>-1</td>\n",
       "      <td>-0.9</td>\n",
       "      <td>-0.77778</td>\n",
       "      <td>-0.333330</td>\n",
       "      <td>-0.71987</td>\n",
       "      <td>-0.75</td>\n",
       "      <td>-0.83333</td>\n",
       "      <td>-1.00000</td>\n",
       "      <td>-1.00000</td>\n",
       "      <td>-0.001805</td>\n",
       "      <td>-0.98113</td>\n",
       "    </tr>\n",
       "    <tr>\n",
       "      <th>...</th>\n",
       "      <td>...</td>\n",
       "      <td>...</td>\n",
       "      <td>...</td>\n",
       "      <td>...</td>\n",
       "      <td>...</td>\n",
       "      <td>...</td>\n",
       "      <td>...</td>\n",
       "      <td>...</td>\n",
       "      <td>...</td>\n",
       "      <td>...</td>\n",
       "      <td>...</td>\n",
       "      <td>...</td>\n",
       "      <td>...</td>\n",
       "      <td>...</td>\n",
       "      <td>...</td>\n",
       "    </tr>\n",
       "    <tr>\n",
       "      <th>50761</th>\n",
       "      <td>-0.289100</td>\n",
       "      <td>-0.93387</td>\n",
       "      <td>-1</td>\n",
       "      <td>-1</td>\n",
       "      <td>-1</td>\n",
       "      <td>-0.9</td>\n",
       "      <td>-1.00000</td>\n",
       "      <td>-1.000000</td>\n",
       "      <td>-1.00000</td>\n",
       "      <td>-1.00</td>\n",
       "      <td>-0.83333</td>\n",
       "      <td>-1.00000</td>\n",
       "      <td>-1.00000</td>\n",
       "      <td>-0.602890</td>\n",
       "      <td>-0.98113</td>\n",
       "    </tr>\n",
       "    <tr>\n",
       "      <th>50762</th>\n",
       "      <td>-0.713530</td>\n",
       "      <td>-0.79726</td>\n",
       "      <td>-1</td>\n",
       "      <td>-1</td>\n",
       "      <td>1</td>\n",
       "      <td>-0.8</td>\n",
       "      <td>-1.00000</td>\n",
       "      <td>-1.000000</td>\n",
       "      <td>-1.00000</td>\n",
       "      <td>-1.00</td>\n",
       "      <td>-0.66667</td>\n",
       "      <td>-0.90117</td>\n",
       "      <td>-0.90476</td>\n",
       "      <td>-0.669680</td>\n",
       "      <td>-0.98113</td>\n",
       "    </tr>\n",
       "    <tr>\n",
       "      <th>50763</th>\n",
       "      <td>-0.093734</td>\n",
       "      <td>-0.95549</td>\n",
       "      <td>-1</td>\n",
       "      <td>-1</td>\n",
       "      <td>-1</td>\n",
       "      <td>-0.8</td>\n",
       "      <td>-1.00000</td>\n",
       "      <td>-1.000000</td>\n",
       "      <td>-1.00000</td>\n",
       "      <td>-1.00</td>\n",
       "      <td>-0.66667</td>\n",
       "      <td>-1.00000</td>\n",
       "      <td>-1.00000</td>\n",
       "      <td>-0.602890</td>\n",
       "      <td>-0.96226</td>\n",
       "    </tr>\n",
       "    <tr>\n",
       "      <th>50764</th>\n",
       "      <td>0.064244</td>\n",
       "      <td>-0.96738</td>\n",
       "      <td>-1</td>\n",
       "      <td>-1</td>\n",
       "      <td>-1</td>\n",
       "      <td>-0.7</td>\n",
       "      <td>-1.00000</td>\n",
       "      <td>-1.000000</td>\n",
       "      <td>-1.00000</td>\n",
       "      <td>-1.00</td>\n",
       "      <td>-0.50000</td>\n",
       "      <td>-0.87895</td>\n",
       "      <td>-0.90476</td>\n",
       "      <td>-0.335740</td>\n",
       "      <td>-0.96226</td>\n",
       "    </tr>\n",
       "    <tr>\n",
       "      <th>50765</th>\n",
       "      <td>-0.093207</td>\n",
       "      <td>-0.95554</td>\n",
       "      <td>-1</td>\n",
       "      <td>-1</td>\n",
       "      <td>-1</td>\n",
       "      <td>-0.9</td>\n",
       "      <td>-1.00000</td>\n",
       "      <td>-1.000000</td>\n",
       "      <td>-1.00000</td>\n",
       "      <td>-1.00</td>\n",
       "      <td>-0.83333</td>\n",
       "      <td>-1.00000</td>\n",
       "      <td>-1.00000</td>\n",
       "      <td>-0.001805</td>\n",
       "      <td>-0.96226</td>\n",
       "    </tr>\n",
       "  </tbody>\n",
       "</table>\n",
       "<p>50766 rows × 15 columns</p>\n",
       "</div>"
      ],
      "text/plain": [
       "             0        1   2   3   4    5        6         7        8     9   \\\n",
       "0     -0.713010 -0.79765  -1  -1   1 -0.8 -1.00000 -1.000000 -1.00000 -1.00   \n",
       "1     -0.191150 -0.94596  -1  -1  -1 -0.7 -1.00000 -1.000000 -1.00000 -1.00   \n",
       "2     -0.653500 -0.83488  -1  -1  -1 -0.7 -1.00000 -1.000000 -1.00000 -1.00   \n",
       "3     -0.901000 -0.46830   1  -1  -1 -0.7 -0.55556 -0.057191 -0.71987 -0.75   \n",
       "4     -0.864140 -0.58888  -1   1  -1 -0.9 -0.77778 -0.333330 -0.71987 -0.75   \n",
       "...         ...      ...  ..  ..  ..  ...      ...       ...      ...   ...   \n",
       "50761 -0.289100 -0.93387  -1  -1  -1 -0.9 -1.00000 -1.000000 -1.00000 -1.00   \n",
       "50762 -0.713530 -0.79726  -1  -1   1 -0.8 -1.00000 -1.000000 -1.00000 -1.00   \n",
       "50763 -0.093734 -0.95549  -1  -1  -1 -0.8 -1.00000 -1.000000 -1.00000 -1.00   \n",
       "50764  0.064244 -0.96738  -1  -1  -1 -0.7 -1.00000 -1.000000 -1.00000 -1.00   \n",
       "50765 -0.093207 -0.95554  -1  -1  -1 -0.9 -1.00000 -1.000000 -1.00000 -1.00   \n",
       "\n",
       "            10       11       12        13       14  \n",
       "0     -0.66667 -0.90117 -0.90476 -0.001805 -0.98113  \n",
       "1     -0.66667 -0.82882 -0.80952 -0.669680 -0.98113  \n",
       "2     -0.50000 -1.00000 -1.00000 -0.001805 -0.94340  \n",
       "3     -0.66667 -0.86023 -0.80952 -0.502710 -0.98113  \n",
       "4     -0.83333 -1.00000 -1.00000 -0.001805 -0.98113  \n",
       "...        ...      ...      ...       ...      ...  \n",
       "50761 -0.83333 -1.00000 -1.00000 -0.602890 -0.98113  \n",
       "50762 -0.66667 -0.90117 -0.90476 -0.669680 -0.98113  \n",
       "50763 -0.66667 -1.00000 -1.00000 -0.602890 -0.96226  \n",
       "50764 -0.50000 -0.87895 -0.90476 -0.335740 -0.96226  \n",
       "50765 -0.83333 -1.00000 -1.00000 -0.001805 -0.96226  \n",
       "\n",
       "[50766 rows x 15 columns]"
      ]
     },
     "execution_count": 55,
     "metadata": {},
     "output_type": "execute_result"
    }
   ],
   "source": [
    "test_x"
   ]
  },
  {
   "cell_type": "code",
   "execution_count": 57,
   "id": "e50b1026",
   "metadata": {},
   "outputs": [],
   "source": [
    "trnx = np.array(train_x)\n",
    "trny = np.array(train_y)\n",
    "trndol = np.array(train_dol)\n",
    "tstx = np.array(test_x)"
   ]
  },
  {
   "cell_type": "code",
   "execution_count": 58,
   "id": "ae30eb3e",
   "metadata": {},
   "outputs": [
    {
     "data": {
      "text/plain": [
       "array([[-0.92575  , -0.34309  ,  1.       , ..., -0.90476  , -0.0018051,\n",
       "        -0.83019  ],\n",
       "       [-0.92575  , -0.34309  ,  1.       , ..., -0.80952  , -0.0018051,\n",
       "        -1.       ],\n",
       "       [-0.901    , -0.4683   ,  1.       , ..., -0.90476  , -0.0018051,\n",
       "        -0.96226  ],\n",
       "       ...,\n",
       "       [-0.34597  , -0.92528  , -1.       , ..., -0.71429  , -0.33574  ,\n",
       "        -0.98113  ],\n",
       "       [-0.56187  , -0.87401  , -1.       , ..., -0.90476  , -0.33574  ,\n",
       "        -1.       ],\n",
       "       [-0.56293  , -0.87365  , -1.       , ..., -0.90476  , -0.0018051,\n",
       "        -0.98113  ]])"
      ]
     },
     "execution_count": 58,
     "metadata": {},
     "output_type": "execute_result"
    }
   ],
   "source": [
    "trnx"
   ]
  },
  {
   "cell_type": "code",
   "execution_count": 59,
   "id": "dd6aff50",
   "metadata": {},
   "outputs": [
    {
     "data": {
      "text/plain": [
       "array([[ 1],\n",
       "       [ 1],\n",
       "       [ 1],\n",
       "       ...,\n",
       "       [-1],\n",
       "       [-1],\n",
       "       [-1]], dtype=int64)"
      ]
     },
     "execution_count": 59,
     "metadata": {},
     "output_type": "execute_result"
    }
   ],
   "source": [
    "trny"
   ]
  },
  {
   "cell_type": "code",
   "execution_count": 60,
   "id": "f72e1b52",
   "metadata": {},
   "outputs": [
    {
     "data": {
      "text/plain": [
       "array([[ 9],\n",
       "       [67],\n",
       "       [10],\n",
       "       ...,\n",
       "       [ 0],\n",
       "       [ 0],\n",
       "       [ 0]], dtype=int64)"
      ]
     },
     "execution_count": 60,
     "metadata": {},
     "output_type": "execute_result"
    }
   ],
   "source": [
    "trndol"
   ]
  },
  {
   "cell_type": "code",
   "execution_count": 111,
   "id": "acdb41f8",
   "metadata": {},
   "outputs": [],
   "source": [
    "rf_model = RandomForestClassifier(max_depth=15, n_estimators=100, random_state=0)"
   ]
  },
  {
   "cell_type": "code",
   "execution_count": 113,
   "id": "26f1fb95",
   "metadata": {},
   "outputs": [
    {
     "data": {
      "text/html": [
       "<style>#sk-container-id-12 {color: black;background-color: white;}#sk-container-id-12 pre{padding: 0;}#sk-container-id-12 div.sk-toggleable {background-color: white;}#sk-container-id-12 label.sk-toggleable__label {cursor: pointer;display: block;width: 100%;margin-bottom: 0;padding: 0.3em;box-sizing: border-box;text-align: center;}#sk-container-id-12 label.sk-toggleable__label-arrow:before {content: \"▸\";float: left;margin-right: 0.25em;color: #696969;}#sk-container-id-12 label.sk-toggleable__label-arrow:hover:before {color: black;}#sk-container-id-12 div.sk-estimator:hover label.sk-toggleable__label-arrow:before {color: black;}#sk-container-id-12 div.sk-toggleable__content {max-height: 0;max-width: 0;overflow: hidden;text-align: left;background-color: #f0f8ff;}#sk-container-id-12 div.sk-toggleable__content pre {margin: 0.2em;color: black;border-radius: 0.25em;background-color: #f0f8ff;}#sk-container-id-12 input.sk-toggleable__control:checked~div.sk-toggleable__content {max-height: 200px;max-width: 100%;overflow: auto;}#sk-container-id-12 input.sk-toggleable__control:checked~label.sk-toggleable__label-arrow:before {content: \"▾\";}#sk-container-id-12 div.sk-estimator input.sk-toggleable__control:checked~label.sk-toggleable__label {background-color: #d4ebff;}#sk-container-id-12 div.sk-label input.sk-toggleable__control:checked~label.sk-toggleable__label {background-color: #d4ebff;}#sk-container-id-12 input.sk-hidden--visually {border: 0;clip: rect(1px 1px 1px 1px);clip: rect(1px, 1px, 1px, 1px);height: 1px;margin: -1px;overflow: hidden;padding: 0;position: absolute;width: 1px;}#sk-container-id-12 div.sk-estimator {font-family: monospace;background-color: #f0f8ff;border: 1px dotted black;border-radius: 0.25em;box-sizing: border-box;margin-bottom: 0.5em;}#sk-container-id-12 div.sk-estimator:hover {background-color: #d4ebff;}#sk-container-id-12 div.sk-parallel-item::after {content: \"\";width: 100%;border-bottom: 1px solid gray;flex-grow: 1;}#sk-container-id-12 div.sk-label:hover label.sk-toggleable__label {background-color: #d4ebff;}#sk-container-id-12 div.sk-serial::before {content: \"\";position: absolute;border-left: 1px solid gray;box-sizing: border-box;top: 0;bottom: 0;left: 50%;z-index: 0;}#sk-container-id-12 div.sk-serial {display: flex;flex-direction: column;align-items: center;background-color: white;padding-right: 0.2em;padding-left: 0.2em;position: relative;}#sk-container-id-12 div.sk-item {position: relative;z-index: 1;}#sk-container-id-12 div.sk-parallel {display: flex;align-items: stretch;justify-content: center;background-color: white;position: relative;}#sk-container-id-12 div.sk-item::before, #sk-container-id-12 div.sk-parallel-item::before {content: \"\";position: absolute;border-left: 1px solid gray;box-sizing: border-box;top: 0;bottom: 0;left: 50%;z-index: -1;}#sk-container-id-12 div.sk-parallel-item {display: flex;flex-direction: column;z-index: 1;position: relative;background-color: white;}#sk-container-id-12 div.sk-parallel-item:first-child::after {align-self: flex-end;width: 50%;}#sk-container-id-12 div.sk-parallel-item:last-child::after {align-self: flex-start;width: 50%;}#sk-container-id-12 div.sk-parallel-item:only-child::after {width: 0;}#sk-container-id-12 div.sk-dashed-wrapped {border: 1px dashed gray;margin: 0 0.4em 0.5em 0.4em;box-sizing: border-box;padding-bottom: 0.4em;background-color: white;}#sk-container-id-12 div.sk-label label {font-family: monospace;font-weight: bold;display: inline-block;line-height: 1.2em;}#sk-container-id-12 div.sk-label-container {text-align: center;}#sk-container-id-12 div.sk-container {/* jupyter's `normalize.less` sets `[hidden] { display: none; }` but bootstrap.min.css set `[hidden] { display: none !important; }` so we also need the `!important` here to be able to override the default hidden behavior on the sphinx rendered scikit-learn.org. See: https://github.com/scikit-learn/scikit-learn/issues/21755 */display: inline-block !important;position: relative;}#sk-container-id-12 div.sk-text-repr-fallback {display: none;}</style><div id=\"sk-container-id-12\" class=\"sk-top-container\"><div class=\"sk-text-repr-fallback\"><pre>RandomForestClassifier(max_depth=15, random_state=0)</pre><b>In a Jupyter environment, please rerun this cell to show the HTML representation or trust the notebook. <br />On GitHub, the HTML representation is unable to render, please try loading this page with nbviewer.org.</b></div><div class=\"sk-container\" hidden><div class=\"sk-item\"><div class=\"sk-estimator sk-toggleable\"><input class=\"sk-toggleable__control sk-hidden--visually\" id=\"sk-estimator-id-12\" type=\"checkbox\" checked><label for=\"sk-estimator-id-12\" class=\"sk-toggleable__label sk-toggleable__label-arrow\">RandomForestClassifier</label><div class=\"sk-toggleable__content\"><pre>RandomForestClassifier(max_depth=15, random_state=0)</pre></div></div></div></div></div>"
      ],
      "text/plain": [
       "RandomForestClassifier(max_depth=15, random_state=0)"
      ]
     },
     "execution_count": 113,
     "metadata": {},
     "output_type": "execute_result"
    }
   ],
   "source": [
    "rf_model.fit(X=trnx[:, :], y=trny[:, 0])"
   ]
  },
  {
   "cell_type": "code",
   "execution_count": 115,
   "id": "9165c98c",
   "metadata": {},
   "outputs": [],
   "source": [
    "rf_pred = rf_model.predict(X=tstx)"
   ]
  },
  {
   "cell_type": "code",
   "execution_count": 116,
   "id": "b192b0a4",
   "metadata": {},
   "outputs": [
    {
     "data": {
      "text/plain": [
       "array([-1, -1, -1, ..., -1, -1, -1], dtype=int64)"
      ]
     },
     "execution_count": 116,
     "metadata": {},
     "output_type": "execute_result"
    }
   ],
   "source": [
    "rf_pred"
   ]
  },
  {
   "cell_type": "code",
   "execution_count": 117,
   "id": "854e0133",
   "metadata": {},
   "outputs": [
    {
     "data": {
      "text/plain": [
       "(array([    3,    17,    33, ..., 50742, 50743, 50750], dtype=int64),)"
      ]
     },
     "execution_count": 117,
     "metadata": {},
     "output_type": "execute_result"
    }
   ],
   "source": [
    "rf_pred_1 = np.where(rf_pred == 1)\n",
    "rf_pred_1"
   ]
  },
  {
   "cell_type": "code",
   "execution_count": 118,
   "id": "b0e946ee",
   "metadata": {
    "scrolled": true
   },
   "outputs": [
    {
     "data": {
      "text/plain": [
       "4458"
      ]
     },
     "execution_count": 118,
     "metadata": {},
     "output_type": "execute_result"
    }
   ],
   "source": [
    "len(rf_pred_1[0])"
   ]
  },
  {
   "cell_type": "code",
   "execution_count": 119,
   "id": "97fd4ac1",
   "metadata": {},
   "outputs": [
    {
     "data": {
      "text/plain": [
       "array([    3,    17,    33, ..., 50742, 50743, 50750], dtype=int64)"
      ]
     },
     "execution_count": 119,
     "metadata": {},
     "output_type": "execute_result"
    }
   ],
   "source": [
    "response_people = rf_pred_1[0]\n",
    "response_people"
   ]
  },
  {
   "cell_type": "markdown",
   "id": "199555f4",
   "metadata": {},
   "source": [
    "### 데이터 읽어온 후 Regression으로 반응 금액 예측하기"
   ]
  },
  {
   "cell_type": "code",
   "execution_count": 120,
   "id": "d70722af",
   "metadata": {},
   "outputs": [],
   "source": [
    "from sklearn.linear_model import LinearRegression"
   ]
  },
  {
   "cell_type": "code",
   "execution_count": 134,
   "id": "f17fc6f1",
   "metadata": {},
   "outputs": [
    {
     "data": {
      "text/html": [
       "<style>#sk-container-id-14 {color: black;background-color: white;}#sk-container-id-14 pre{padding: 0;}#sk-container-id-14 div.sk-toggleable {background-color: white;}#sk-container-id-14 label.sk-toggleable__label {cursor: pointer;display: block;width: 100%;margin-bottom: 0;padding: 0.3em;box-sizing: border-box;text-align: center;}#sk-container-id-14 label.sk-toggleable__label-arrow:before {content: \"▸\";float: left;margin-right: 0.25em;color: #696969;}#sk-container-id-14 label.sk-toggleable__label-arrow:hover:before {color: black;}#sk-container-id-14 div.sk-estimator:hover label.sk-toggleable__label-arrow:before {color: black;}#sk-container-id-14 div.sk-toggleable__content {max-height: 0;max-width: 0;overflow: hidden;text-align: left;background-color: #f0f8ff;}#sk-container-id-14 div.sk-toggleable__content pre {margin: 0.2em;color: black;border-radius: 0.25em;background-color: #f0f8ff;}#sk-container-id-14 input.sk-toggleable__control:checked~div.sk-toggleable__content {max-height: 200px;max-width: 100%;overflow: auto;}#sk-container-id-14 input.sk-toggleable__control:checked~label.sk-toggleable__label-arrow:before {content: \"▾\";}#sk-container-id-14 div.sk-estimator input.sk-toggleable__control:checked~label.sk-toggleable__label {background-color: #d4ebff;}#sk-container-id-14 div.sk-label input.sk-toggleable__control:checked~label.sk-toggleable__label {background-color: #d4ebff;}#sk-container-id-14 input.sk-hidden--visually {border: 0;clip: rect(1px 1px 1px 1px);clip: rect(1px, 1px, 1px, 1px);height: 1px;margin: -1px;overflow: hidden;padding: 0;position: absolute;width: 1px;}#sk-container-id-14 div.sk-estimator {font-family: monospace;background-color: #f0f8ff;border: 1px dotted black;border-radius: 0.25em;box-sizing: border-box;margin-bottom: 0.5em;}#sk-container-id-14 div.sk-estimator:hover {background-color: #d4ebff;}#sk-container-id-14 div.sk-parallel-item::after {content: \"\";width: 100%;border-bottom: 1px solid gray;flex-grow: 1;}#sk-container-id-14 div.sk-label:hover label.sk-toggleable__label {background-color: #d4ebff;}#sk-container-id-14 div.sk-serial::before {content: \"\";position: absolute;border-left: 1px solid gray;box-sizing: border-box;top: 0;bottom: 0;left: 50%;z-index: 0;}#sk-container-id-14 div.sk-serial {display: flex;flex-direction: column;align-items: center;background-color: white;padding-right: 0.2em;padding-left: 0.2em;position: relative;}#sk-container-id-14 div.sk-item {position: relative;z-index: 1;}#sk-container-id-14 div.sk-parallel {display: flex;align-items: stretch;justify-content: center;background-color: white;position: relative;}#sk-container-id-14 div.sk-item::before, #sk-container-id-14 div.sk-parallel-item::before {content: \"\";position: absolute;border-left: 1px solid gray;box-sizing: border-box;top: 0;bottom: 0;left: 50%;z-index: -1;}#sk-container-id-14 div.sk-parallel-item {display: flex;flex-direction: column;z-index: 1;position: relative;background-color: white;}#sk-container-id-14 div.sk-parallel-item:first-child::after {align-self: flex-end;width: 50%;}#sk-container-id-14 div.sk-parallel-item:last-child::after {align-self: flex-start;width: 50%;}#sk-container-id-14 div.sk-parallel-item:only-child::after {width: 0;}#sk-container-id-14 div.sk-dashed-wrapped {border: 1px dashed gray;margin: 0 0.4em 0.5em 0.4em;box-sizing: border-box;padding-bottom: 0.4em;background-color: white;}#sk-container-id-14 div.sk-label label {font-family: monospace;font-weight: bold;display: inline-block;line-height: 1.2em;}#sk-container-id-14 div.sk-label-container {text-align: center;}#sk-container-id-14 div.sk-container {/* jupyter's `normalize.less` sets `[hidden] { display: none; }` but bootstrap.min.css set `[hidden] { display: none !important; }` so we also need the `!important` here to be able to override the default hidden behavior on the sphinx rendered scikit-learn.org. See: https://github.com/scikit-learn/scikit-learn/issues/21755 */display: inline-block !important;position: relative;}#sk-container-id-14 div.sk-text-repr-fallback {display: none;}</style><div id=\"sk-container-id-14\" class=\"sk-top-container\"><div class=\"sk-text-repr-fallback\"><pre>LinearRegression()</pre><b>In a Jupyter environment, please rerun this cell to show the HTML representation or trust the notebook. <br />On GitHub, the HTML representation is unable to render, please try loading this page with nbviewer.org.</b></div><div class=\"sk-container\" hidden><div class=\"sk-item\"><div class=\"sk-estimator sk-toggleable\"><input class=\"sk-toggleable__control sk-hidden--visually\" id=\"sk-estimator-id-14\" type=\"checkbox\" checked><label for=\"sk-estimator-id-14\" class=\"sk-toggleable__label sk-toggleable__label-arrow\">LinearRegression</label><div class=\"sk-toggleable__content\"><pre>LinearRegression()</pre></div></div></div></div></div>"
      ],
      "text/plain": [
       "LinearRegression()"
      ]
     },
     "execution_count": 134,
     "metadata": {},
     "output_type": "execute_result"
    }
   ],
   "source": [
    "reg_model = LinearRegression()\n",
    "reg_model.fit(X=trnx[:,:], y=trndol[:,0])"
   ]
  },
  {
   "cell_type": "code",
   "execution_count": 140,
   "id": "23a5bb31",
   "metadata": {},
   "outputs": [
    {
     "data": {
      "text/plain": [
       "array([ 2.72935879,  6.4826522 ,  4.47508969, ...,  3.32615718,\n",
       "       -0.49316573,  0.75266341])"
      ]
     },
     "execution_count": 140,
     "metadata": {},
     "output_type": "execute_result"
    }
   ],
   "source": [
    "reg_pred = reg_model.predict(X=tstx)\n",
    "reg_pred"
   ]
  },
  {
   "cell_type": "code",
   "execution_count": 138,
   "id": "8003a0bf",
   "metadata": {},
   "outputs": [
    {
     "data": {
      "text/plain": [
       "(array([], dtype=int64),)"
      ]
     },
     "execution_count": 138,
     "metadata": {},
     "output_type": "execute_result"
    }
   ],
   "source": [
    "reg_pred_1 = np.where(reg_pred == 0)\n",
    "reg_pred_1"
   ]
  }
 ],
 "metadata": {
  "kernelspec": {
   "display_name": "Python 3 (ipykernel)",
   "language": "python",
   "name": "python3"
  },
  "language_info": {
   "codemirror_mode": {
    "name": "ipython",
    "version": 3
   },
   "file_extension": ".py",
   "mimetype": "text/x-python",
   "name": "python",
   "nbconvert_exporter": "python",
   "pygments_lexer": "ipython3",
   "version": "3.9.12"
  }
 },
 "nbformat": 4,
 "nbformat_minor": 5
}
